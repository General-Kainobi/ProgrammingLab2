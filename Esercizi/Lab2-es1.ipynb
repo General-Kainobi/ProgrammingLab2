{
 "cells": [
  {
   "cell_type": "code",
   "execution_count": 2,
   "metadata": {},
   "outputs": [
    {
     "data": {
      "text/plain": [
       "'Hello World'"
      ]
     },
     "execution_count": 2,
     "metadata": {},
     "output_type": "execute_result"
    }
   ],
   "source": [
    "\"Hello World\""
   ]
  },
  {
   "cell_type": "code",
   "execution_count": 28,
   "metadata": {},
   "outputs": [
    {
     "name": "stdout",
     "output_type": "stream",
     "text": [
      "Squares loopati: [0, 1, 4, 9, 16]\n",
      "Squares with comprehension: [0, 1, 4, 9, 16]\n",
      "Pari loopati: [0, 2, 4, 6, 8]\n",
      "pari : [0, 2, 4, 6, 8]\n",
      "Uppercase: ['HELLO', 'WORLD', 'PYTHON']\n",
      "Uppercase: ['HELLO', 'WORLD', 'PYTHON']\n"
     ]
    }
   ],
   "source": [
    "#esercizio 1.1\n",
    "squares = []\n",
    "for i in range(5):\n",
    "    squares.append(i ** 2)\n",
    "print(\"Squares loopati:\", squares)\n",
    "# list comprehension\n",
    "squares_comp = [i ** 2 for i in range(5)]\n",
    "print(\"Squares with comprehension:\", squares_comp)\n",
    "\n",
    "#esercizio 1.2\n",
    "pari = []\n",
    "for i in range(10):\n",
    "    if i % 2 == 0:\n",
    "        pari.append(i)\n",
    "print(\"Pari loopati:\", pari)\n",
    "#list comprehension\n",
    "even_numbers_comp = [i for i in range(10) if i % 2 == 0]\n",
    "print(\"pari :\", even_numbers_comp)\n",
    "\n",
    "#esercizio 1.3\n",
    "words = ['hello', 'world', 'python']\n",
    "upper_words = []\n",
    "for word in words:\n",
    "    upper_words.append(word.upper())\n",
    "print(\"Uppercase:\", upper_words)\n",
    "#list comprehension\n",
    "upper_words_comp = [word.upper() for word in words]\n",
    "print(\"Uppercase:\", upper_words_comp)"
   ]
  },
  {
   "cell_type": "code",
   "execution_count": 27,
   "metadata": {},
   "outputs": [
    {
     "name": "stdout",
     "output_type": "stream",
     "text": [
      "11\n",
      "True\n",
      "int32\n",
      "Numeri primi con comprehension: [2, 3, 5, 7, 11, 13, 17, 19, 23, 29]\n"
     ]
    }
   ],
   "source": [
    "# esercizio 2\n",
    "import numpy as np\n",
    "primi= np.array([2, 3, 5, 7,8, 11, 13, 17, 19, 23, 29])\n",
    "lung=len(primi)\n",
    "print(lung)\n",
    "print(primi.size == lung)\n",
    "print(primi.dtype)\n",
    "def is_prime(n):\n",
    "    if n < 2:\n",
    "        return False\n",
    "    for i in range(2, int(n ** 0.5) + 1):\n",
    "        if n % i == 0:\n",
    "            return False\n",
    "    return True\n",
    "primes_comp = [primi[n] for n in range(len(primi)) if is_prime(primi[n])]\n",
    "print(\"Numeri primi con comprehension:\", primes_comp)"
   ]
  },
  {
   "cell_type": "code",
   "execution_count": null,
   "metadata": {},
   "outputs": [
    {
     "name": "stdout",
     "output_type": "stream",
     "text": [
      "Array b: [30 11 42 45]\n",
      "array: [16 35 13 22 30 50 30 11 42 45]\n",
      "Array diviso per array c: [0.35555556 0.83333333 1.18181818 0.73333333 0.6        1.66666667\n",
      " 1.36363636 0.84615385 1.2        2.8125    ]\n"
     ]
    }
   ],
   "source": [
    "#esercizio 3\n",
    "\"\"\"Crea un array a, 1D (senza digitarlo esplicitamente), \n",
    "e genera due nuovi array b, contenente una sottostringa a piacere e \n",
    "c che è il reverse dell'array a (esempio [1,2,3] diventa [3,2,1]) . \n",
    "Dividi l'array a per l'array c. Fai la stessa cosa per una lista.\"\"\"\n",
    "import numpy as np\n",
    "import random as r\n",
    "array=np.array([r.randint(1, 50) for i in range(10)])\n",
    "array_b = array[r.randint(1,25):r.randint(26,50)]\n",
    "\n",
    "print(\"Array b:\", array_b)\n",
    "print(\"array:\", array)\n",
    "array_c = np.flip(array)\n",
    "divide_array = (array / array_c)\n",
    "print(\"Array diviso per array c:\", divide_array)\n",
    "\n",
    "list_a = [r.randint(1, 50) for i in range(10)]\n",
    "list_b = list_a[r.randint(1,25):r.randint(26,50)]\n",
    "list_c = list_a[::-1]\n",
    "divide_list = [list_a[i] / list_c[i] for i in range(len(list_a))]"
   ]
  }
 ],
 "metadata": {
  "kernelspec": {
   "display_name": "base",
   "language": "python",
   "name": "python3"
  },
  "language_info": {
   "codemirror_mode": {
    "name": "ipython",
    "version": 3
   },
   "file_extension": ".py",
   "mimetype": "text/x-python",
   "name": "python",
   "nbconvert_exporter": "python",
   "pygments_lexer": "ipython3",
   "version": "3.12.7"
  }
 },
 "nbformat": 4,
 "nbformat_minor": 2
}
